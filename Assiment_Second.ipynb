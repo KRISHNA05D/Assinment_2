{
 "cells": [
  {
   "cell_type": "markdown",
   "id": "4a89cee4-42ab-4ef6-a7be-6013d2bfd5a6",
   "metadata": {},
   "source": [
    "QUESTION:-1\n",
    "\n",
    "Which keyword is used to create a function? Create a function to return a list of odd numbers in the\n",
    "range of 1 to 25."
   ]
  },
  {
   "cell_type": "raw",
   "id": "6c57d025-033d-4c9b-8f45-9822cb480273",
   "metadata": {},
   "source": [
    "Answer:-\n",
    "\n",
    "'def' Keyword is used to create a Function \n",
    "Syntex of creating function is :-\n",
    "                                 def Function_name(Parameters):\n",
    "                                         Statments......."
   ]
  },
  {
   "cell_type": "code",
   "execution_count": 8,
   "id": "ce672f97-39f3-4dcd-b5e1-a15061d54bfe",
   "metadata": {},
   "outputs": [],
   "source": [
    "def Odd():\n",
    "    for i in range(1,25):\n",
    "        if i%2!=0:\n",
    "            print(i)"
   ]
  },
  {
   "cell_type": "code",
   "execution_count": 9,
   "id": "f3fa4a31-ae7c-4b5c-be2c-b4e2735552dc",
   "metadata": {},
   "outputs": [
    {
     "name": "stdout",
     "output_type": "stream",
     "text": [
      "1\n",
      "3\n",
      "5\n",
      "7\n",
      "9\n",
      "11\n",
      "13\n",
      "15\n",
      "17\n",
      "19\n",
      "21\n",
      "23\n"
     ]
    }
   ],
   "source": [
    "Odd()"
   ]
  },
  {
   "cell_type": "markdown",
   "id": "28133cc7-328f-46fc-8891-1a9ed6d60596",
   "metadata": {},
   "source": [
    "QUESTION:-2\n",
    "\n",
    "Why *args and **kwargs is used in some functions? Create a function each for *args and **kwargs\n",
    "to demonstrate their use."
   ]
  },
  {
   "cell_type": "markdown",
   "id": "c67be85e-c264-4487-b697-96e7fff5cab3",
   "metadata": {},
   "source": [
    "ANSWER:-\n",
    "\n",
    "We use *args and **kwargs for taken N number of in put's and have oprations on it.\n",
    "\n",
    "*args:-  In *args we can change args to any other words and it is used to take N number of input's from user at the time of calling the function.\n",
    "\n",
    "**kwargs:- In **kwargs we can take arguments in Key-Value pair and we also take N number of arguments by calling function."
   ]
  },
  {
   "cell_type": "code",
   "execution_count": 2,
   "id": "72a3de78-0383-4257-9eb8-52b941434137",
   "metadata": {},
   "outputs": [],
   "source": [
    "def Args(*Aim):\n",
    "    return Aim"
   ]
  },
  {
   "cell_type": "code",
   "execution_count": 4,
   "id": "20ee7222-5fb5-4b2e-a9b0-e19b23dc23d9",
   "metadata": {},
   "outputs": [
    {
     "data": {
      "text/plain": [
       "(1, 23, 53.4, 'PWSKIILS')"
      ]
     },
     "execution_count": 4,
     "metadata": {},
     "output_type": "execute_result"
    }
   ],
   "source": [
    "Args(1,23,53.4,'PWSKIILS')"
   ]
  },
  {
   "cell_type": "code",
   "execution_count": 5,
   "id": "ee50a57c-7a00-405c-bea2-d5729bb87e5f",
   "metadata": {},
   "outputs": [],
   "source": [
    "def Kwargs(**kwargs):\n",
    "    return kwargs"
   ]
  },
  {
   "cell_type": "code",
   "execution_count": 6,
   "id": "4934d264-3bd4-4588-a366-96a9f878c84f",
   "metadata": {},
   "outputs": [
    {
     "data": {
      "text/plain": [
       "{'a': 12, 'b': 'Your_name', 'c': 546.8}"
      ]
     },
     "execution_count": 6,
     "metadata": {},
     "output_type": "execute_result"
    }
   ],
   "source": [
    "Kwargs(a=12,b='Your_name',c=546.8)"
   ]
  },
  {
   "cell_type": "markdown",
   "id": "a69b7736-d05c-4416-9f4e-60d3cc9c7f62",
   "metadata": {},
   "source": [
    "QUESTION:- 3\n",
    "What is an iterator in python? Name the method used to initialise the iterator object and the method\n",
    "used for iteration. Use these methods to print the first five elements of the given list [2, 4, 6, 8, 10, 12, 14,\n",
    "16, 18, 20]."
   ]
  },
  {
   "cell_type": "raw",
   "id": "6a84f19c-1f73-41fa-8121-58f7435b7cc4",
   "metadata": {},
   "source": [
    "ANSWER:-\n",
    "\n",
    "In Python, an iterator is an object that allows you to traverse through all the elements of a collection (like a list or tuple) one at a time. Iterators implement two methods:\n",
    "\n",
    "__iter__(): This method initializes the iterator object. It is called when an iterator is required for a container.\n",
    "__next__(): This method returns the next item from the container. When there are no more items to return, it raises a StopIteration exception.\n",
    "To illustrate how to use these methods, let's use the given list [2, 4, 6, 8, 10, 12, 14, 16, 18, 20] and print the first five elements.\n",
    "\n",
    "Here's a step-by-step example:\n",
    "\n",
    "Create an iterator object from the list.\n",
    "Use the __iter__() method to get the iterator.\n",
    "Use the __next__() method to iterate through the elements."
   ]
  },
  {
   "cell_type": "code",
   "execution_count": 4,
   "id": "4f102c9b-76d5-46ca-8946-1ab072f049bf",
   "metadata": {},
   "outputs": [
    {
     "name": "stdout",
     "output_type": "stream",
     "text": [
      "2\n",
      "4\n",
      "6\n",
      "8\n",
      "10\n",
      "12\n",
      "14\n",
      "16\n",
      "18\n",
      "20\n"
     ]
    }
   ],
   "source": [
    "# Given list\n",
    "my_list = [2, 4, 6, 8, 10, 12, 14, 16, 18, 20]\n",
    "\n",
    "# Create an iterator object\n",
    "iterator = iter(my_list)\n",
    "print(next(iterator))\n",
    "print(next(iterator))\n",
    "print(next(iterator))\n",
    "print(next(iterator))\n",
    "print(next(iterator))\n",
    "print(next(iterator))  \n",
    "print(next(iterator))\n",
    "print(next(iterator))\n",
    "print(next(iterator))\n",
    "print(next(iterator))\n"
   ]
  },
  {
   "cell_type": "markdown",
   "id": "33ffc727-49d4-4cc1-8a6a-de4e8a2dc0f2",
   "metadata": {},
   "source": [
    "QUESTION:-4\n",
    "What is a generator function in python? Why yield keyword is used? Give an example of a generator\n",
    "function."
   ]
  },
  {
   "cell_type": "raw",
   "id": "59846e0b-6c3e-44dc-a6b0-fcd042e3b69e",
   "metadata": {},
   "source": [
    "ANSWER:-\n",
    "\n",
    "GENRATOR FUNCTION:-  A generator function in Python is a special kind of function that returns an iterator, which we can iterate over one value at a time. Instead of using return to return a value and terminate the function, a generator function uses the yield keyword to return a value and pause the function, saving its state for resumption when the next value is requested.\n",
    "\n",
    "YIELD KEYWORD:-   The yield keyword is used in a generator function to produce a value and suspend the function’s execution, maintaining its state for subsequent calls. When the generator function is resumed, it continues execution immediately after the last yield statement, with all its variable states intact."
   ]
  },
  {
   "cell_type": "code",
   "execution_count": 6,
   "id": "19d206fc-d5a0-4bb1-b955-da3c3bed4252",
   "metadata": {},
   "outputs": [
    {
     "name": "stdout",
     "output_type": "stream",
     "text": [
      "0\n",
      "2\n",
      "4\n",
      "6\n",
      "8\n"
     ]
    }
   ],
   "source": [
    "def even_numbers():\n",
    "    n = 0\n",
    "    while n < 10:\n",
    "        yield n\n",
    "        n += 2\n",
    "gen = even_numbers()\n",
    "for _ in range(5):\n",
    "    print(next(gen))\n"
   ]
  },
  {
   "cell_type": "markdown",
   "id": "d4372f48-bf47-4f09-8cac-7caeed9c7b5f",
   "metadata": {},
   "source": [
    "QUESTION:-5\n",
    "Create a generator function for prime numbers less than 1000. Use the next() method to print the\n",
    "first 20 prime numbers."
   ]
  },
  {
   "cell_type": "code",
   "execution_count": 8,
   "id": "ca5f3878-815d-474d-b565-4476588f2e74",
   "metadata": {},
   "outputs": [
    {
     "name": "stdout",
     "output_type": "stream",
     "text": [
      "2\n",
      "3\n",
      "5\n",
      "7\n",
      "11\n",
      "13\n",
      "17\n",
      "19\n",
      "23\n",
      "29\n",
      "31\n",
      "37\n",
      "41\n",
      "43\n",
      "47\n",
      "53\n",
      "59\n",
      "61\n",
      "67\n",
      "71\n"
     ]
    }
   ],
   "source": [
    "#ANSWER\n",
    "def prime_numbers():\n",
    "    def is_prime(n):\n",
    "        if n <= 1:\n",
    "            return False\n",
    "        if n <= 3:\n",
    "            return True\n",
    "        if n % 2 == 0 or n % 3 == 0:\n",
    "            return False\n",
    "        i = 5\n",
    "        while i * i <= n:\n",
    "            if n % i == 0 or n % (i + 2) == 0:\n",
    "                return False\n",
    "            i += 6\n",
    "        return True\n",
    "    \n",
    "    num = 2\n",
    "    while num < 1000:\n",
    "        if is_prime(num):\n",
    "            yield num\n",
    "        num += 1\n",
    "gen = prime_numbers()\n",
    "for _ in range(20):\n",
    "    print(next(gen))\n"
   ]
  },
  {
   "cell_type": "markdown",
   "id": "92402587-a389-445f-9cbc-c0962c032b0a",
   "metadata": {},
   "source": [
    "QUESTION:-6\n",
    "Write a python program to print the first 10 Fibonacci numbers using a while loop."
   ]
  },
  {
   "cell_type": "code",
   "execution_count": 1,
   "id": "03b33d69-fd57-44d1-a66f-3665cb86136b",
   "metadata": {},
   "outputs": [
    {
     "name": "stdout",
     "output_type": "stream",
     "text": [
      "0\n",
      "1\n",
      "1\n",
      "2\n",
      "3\n",
      "5\n",
      "8\n",
      "13\n",
      "21\n",
      "34\n"
     ]
    }
   ],
   "source": [
    "#ANSWER\n",
    "a, b = 0, 1\n",
    "count = 0\n",
    "num_fibonacci = 10\n",
    "while count < num_fibonacci:\n",
    "    print(a)\n",
    "    # Update to the next Fibonacci number\n",
    "    a, b = b, a + b\n",
    "    count += 1\n"
   ]
  },
  {
   "cell_type": "markdown",
   "id": "32d06d86-48da-4e1f-8221-1fbcf70bc27b",
   "metadata": {},
   "source": [
    "QUESTION:- 7\n",
    "Write a List Comprehension to iterate through the given string: ‘pwskills’.\n",
    "Expected output: ['p', 'w', 's', 'k', 'i', 'l', 'l', 's']"
   ]
  },
  {
   "cell_type": "code",
   "execution_count": 4,
   "id": "d61d2f4e-f1ea-4be7-9696-de9ada0e113f",
   "metadata": {},
   "outputs": [
    {
     "name": "stdout",
     "output_type": "stream",
     "text": [
      "['p', 'w', 's', 'k', 'i', 'l', 'l', 's']\n"
     ]
    }
   ],
   "source": [
    "#ANSWER\n",
    "S='pwskills'\n",
    "Output=[c for c in S if c in 'pwskills']\n",
    "print(Output)"
   ]
  },
  {
   "cell_type": "markdown",
   "id": "8184f806-e87f-46c4-9c18-0b64066b84f0",
   "metadata": {},
   "source": [
    "QUESTION:-8\n",
    "Write a python program to check whether a given number is Palindrome or not using a while loop.\n"
   ]
  },
  {
   "cell_type": "code",
   "execution_count": 9,
   "id": "d342f404-f59b-4943-917f-5533115a141d",
   "metadata": {},
   "outputs": [
    {
     "name": "stdin",
     "output_type": "stream",
     "text": [
      "Enter any number 121\n"
     ]
    },
    {
     "name": "stdout",
     "output_type": "stream",
     "text": [
      "121 is a palindrome number\n"
     ]
    }
   ],
   "source": [
    "#ANSWER\n",
    "Num=int(input('Enter any number'))\n",
    "Original=Num\n",
    "reverse=0\n",
    "while Num>0:\n",
    "    d=Num%10\n",
    "    reverse = reverse*10+d\n",
    "    Num =Num//10\n",
    "if Original== reverse:\n",
    "    print(Original,\"is a palindrome number\")\n",
    "else:\n",
    "    print(Original,\"is not a palindrome number\")"
   ]
  },
  {
   "cell_type": "markdown",
   "id": "dc290dc2-dad4-4482-a9ad-d9050b2b56e2",
   "metadata": {},
   "source": [
    "QUESTION:-9\n",
    "Write a code to print odd numbers from 1 to 100 using list comprehension."
   ]
  },
  {
   "cell_type": "code",
   "execution_count": 12,
   "id": "c56736a6-9216-4dd2-a2be-ebf3bc3fc280",
   "metadata": {},
   "outputs": [
    {
     "name": "stdout",
     "output_type": "stream",
     "text": [
      "[1, 3, 5, 7, 9, 11, 13, 15, 17, 19, 21, 23, 25, 27, 29, 31, 33, 35, 37, 39, 41, 43, 45, 47, 49, 51, 53, 55, 57, 59, 61, 63, 65, 67, 69, 71, 73, 75, 77, 79, 81, 83, 85, 87, 89, 91, 93, 95, 97, 99]\n"
     ]
    }
   ],
   "source": [
    "Odd = [c for c in range(1,100,2)]\n",
    "print(list(Odd))"
   ]
  },
  {
   "cell_type": "code",
   "execution_count": null,
   "id": "ead6d074-2943-429f-af21-bcbc1a68c734",
   "metadata": {},
   "outputs": [],
   "source": []
  }
 ],
 "metadata": {
  "kernelspec": {
   "display_name": "Python 3 (ipykernel)",
   "language": "python",
   "name": "python3"
  },
  "language_info": {
   "codemirror_mode": {
    "name": "ipython",
    "version": 3
   },
   "file_extension": ".py",
   "mimetype": "text/x-python",
   "name": "python",
   "nbconvert_exporter": "python",
   "pygments_lexer": "ipython3",
   "version": "3.10.8"
  }
 },
 "nbformat": 4,
 "nbformat_minor": 5
}
